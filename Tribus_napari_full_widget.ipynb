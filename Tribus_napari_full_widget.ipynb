{
 "cells": [
  {
   "cell_type": "code",
   "execution_count": 1,
   "id": "74ada19d",
   "metadata": {
    "collapsed": false,
    "jupyter": {
     "outputs_hidden": false
    }
   },
   "outputs": [],
   "source": [
    "import numpy as np\n",
    "import pandas as pd\n",
    "import tifffile as tiff\n",
    "import zarr\n",
    "import napari\n",
    "import dask.array as da\n",
    "import zarr\n",
    "import os\n",
    "import numpy as np\n",
    "from pathlib import Path\n",
    "from magicgui import magicgui\n",
    "import distinctipy \n",
    "from matplotlib.colors import to_hex\n",
    "from tribus import classify\n",
    "import tribus\n",
    "from tribus import run_tribus\n",
    "from qtpy.QtWidgets import QHBoxLayout, QPushButton, QWidget"
   ]
  },
  {
   "cell_type": "code",
   "execution_count": 24,
   "id": "5edfe499",
   "metadata": {},
   "outputs": [],
   "source": [
    "#Open Napari Viewer\n",
    "viewer = napari.Viewer()"
   ]
  },
  {
   "cell_type": "markdown",
   "id": "5113e129-301d-49e4-ac7a-7b0454e445b4",
   "metadata": {},
   "source": [
    "### Open whole slide image"
   ]
  },
  {
   "cell_type": "code",
   "execution_count": null,
   "id": "2e105bbe-01ad-491e-9566-aea5e013d499",
   "metadata": {},
   "outputs": [],
   "source": [
    "@magicgui(call_button='Open image')\n",
    "def open_image(impath = Path(), channel_list=Path()):\n",
    "    image = tiff.TiffFile(impath, is_ome = False)\n",
    "    z = zarr.open(image.aszarr(), mode='r')\n",
    "    n_levels = len(image.series[0].levels) # pyramid\n",
    "\n",
    "    # If and if not pyramids are available\n",
    "    if n_levels > 1:\n",
    "        pyramid = [da.from_zarr(z[i]) for i in range(n_levels)]\n",
    "        multiscale = True\n",
    "    else:\n",
    "        pyramid = da.from_zarr(z)\n",
    "        multiscale = False \n",
    "        \n",
    "    if channel_list == '.':\n",
    "        viewer.add_image(pyramid, multiscale=multiscale, channel_axis=0, visible=False, contrast_limits=(0,65535))\n",
    "    else:\n",
    "        list_df = pd.read_excel(channel_list)\n",
    "        clist = list(list_df.loc[:, 'Channel_name'])\n",
    "        viewer.add_image(pyramid, multiscale=multiscale, channel_axis=0, visible=False, contrast_limits=(0,65535), name=clist)\n",
    "\n",
    "viewer.window.add_dock_widget(open_image)"
   ]
  },
  {
   "cell_type": "code",
   "execution_count": 22,
   "id": "585b3bce",
   "metadata": {},
   "outputs": [],
   "source": [
    "#Load helper functions \n",
    "RED = (1, 0, 0)\n",
    "GREEN = (0, 1, 0)\n",
    "BLUE = (0, 0, 1)\n",
    "WHITE = (1, 1, 1)\n",
    "BLACK = (0, 0, 0)\n",
    "MAGENTA = (1, 0, 1)\n",
    "YELLOW = (1, 1, 0)\n",
    "CYAN = (0, 1, 1)\n",
    "\n",
    "excluded_colors = [RED, GREEN, BLUE, BLACK, WHITE, CYAN, MAGENTA]\n",
    "\n",
    "def filter_and_transform(arr, selected_ids):\n",
    "    filtered_arr = np.where(np.isin(arr, selected_ids), arr, 0)\n",
    "    return np.where(filtered_arr != 0, 1, 0)"
   ]
  },
  {
   "cell_type": "markdown",
   "id": "7ef58a03",
   "metadata": {},
   "source": [
    "### Napari widget to run Tribus on one sample and visualize results\n",
    "Celltype_mask: Visualizes assigned celltypes across the sample\n",
    "\n",
    "Marker_intensity_mask: Visualizes selected marker intensity across the sample \n",
    "\n",
    "Probability_mask: Visualizes Tribus's probability score per cell type\n",
    "\n",
    "mask path: Segmentation mask, sample_data: Quantification table, logic: Tribus logic table, output folder: User set folder to save results"
   ]
  },
  {
   "cell_type": "code",
   "execution_count": 23,
   "id": "144e31be",
   "metadata": {
    "collapsed": false,
    "jupyter": {
     "outputs_hidden": false
    }
   },
   "outputs": [
    {
     "data": {
      "text/plain": [
       "<napari._qt.widgets.qt_viewer_dock_widget.QtViewerDockWidget at 0x22f018a3920>"
      ]
     },
     "execution_count": 23,
     "metadata": {},
     "output_type": "execute_result"
    },
    {
     "name": "stdout",
     "output_type": "stream",
     "text": [
      "False False True\n",
      "Global, subsetting done\n",
      "Start hyperparameter tuning. \n",
      "x is 24\n",
      "Current quantization error is 112530.50118092149                                                                       \n",
      "100%|██████████████████████████████████████████████████| 1/1 [00:00<00:00,  4.75trial/s, best loss: 112530.50118092149]\n",
      "best: {'learning_rate': np.float64(3.6624602028328934), 'sig': np.float64(1.0539935952425987)}\n",
      "Current grid size x is 24, grid size y is 24, sigma is 1.0539935952425987, learning rate is 3.6624602028328934.\n",
      "less than min sample_size\n",
      "Tumor, subsetting done\n",
      "Start hyperparameter tuning. \n",
      "x is 24\n",
      "Current quantization error is 112530.48529765345                                                                       \n",
      "100%|██████████████████████████████████████████████████| 1/1 [00:00<00:00,  5.81trial/s, best loss: 112530.48529765345]\n",
      "best: {'learning_rate': np.float64(2.4869357363196047), 'sig': np.float64(4.6630679470753975)}\n",
      "Current grid size x is 24, grid size y is 24, sigma is 4.6630679470753975, learning rate is 2.4869357363196047.\n",
      "less than min sample_size\n",
      "AllOthers, subsetting done\n",
      "Start hyperparameter tuning. \n",
      "x is 24\n",
      "Current quantization error is 112530.4901999895                                                                        \n",
      "100%|███████████████████████████████████████████████████| 1/1 [00:00<00:00,  5.90trial/s, best loss: 112530.4901999895]\n",
      "best: {'learning_rate': np.float64(3.343270406918211), 'sig': np.float64(0.49014536760025135)}\n",
      "Current grid size x is 24, grid size y is 24, sigma is 0.49014536760025135, learning rate is 3.343270406918211.\n",
      "less than min sample_size\n",
      "Mye_stro, subsetting done\n",
      "Start hyperparameter tuning. \n",
      "x is 24\n",
      "Current quantization error is 112530.51707936091                                                                       \n",
      "100%|██████████████████████████████████████████████████| 1/1 [00:00<00:00,  5.53trial/s, best loss: 112530.51707936091]\n",
      "best: {'learning_rate': np.float64(1.8401075582509205), 'sig': np.float64(3.7750087262459697)}\n",
      "Current grid size x is 24, grid size y is 24, sigma is 3.7750087262459697, learning rate is 1.8401075582509205.\n",
      "less than min sample_size\n",
      "Myeloid, subsetting done\n",
      "Start hyperparameter tuning. \n",
      "x is 24\n",
      "Current quantization error is 112530.50285842198                                                                       \n",
      "100%|██████████████████████████████████████████████████| 1/1 [00:00<00:00,  5.79trial/s, best loss: 112530.50285842198]\n",
      "best: {'learning_rate': np.float64(4.282544862819207), 'sig': np.float64(1.3798960846547614)}\n",
      "Current grid size x is 24, grid size y is 24, sigma is 1.3798960846547614, learning rate is 4.282544862819207.\n",
      "less than min sample_size\n",
      "Lymphoid, subsetting done\n",
      "Start hyperparameter tuning. \n",
      "x is 24\n",
      "Current quantization error is 112530.53831470739                                                                       \n",
      "100%|██████████████████████████████████████████████████| 1/1 [00:00<00:00,  5.14trial/s, best loss: 112530.53831470739]\n",
      "best: {'learning_rate': np.float64(2.699569843854888), 'sig': np.float64(1.8193913032120839)}\n",
      "Current grid size x is 24, grid size y is 24, sigma is 1.8193913032120839, learning rate is 2.699569843854888.\n",
      "less than min sample_size\n",
      "0.466077450911204 minutes\n",
      "TiffFile 'AF_PREPOST2_labels.ome.tiff'  668.79 MiB  ome\n",
      "[[0 0 0 ... 0 0 0]\n",
      " [0 0 0 ... 0 0 0]\n",
      " [0 0 0 ... 0 0 0]\n",
      " ...\n",
      " [0 0 0 ... 0 0 0]\n",
      " [0 0 0 ... 0 0 0]\n",
      " [0 0 0 ... 0 0 0]]\n",
      "[dask.array<array, shape=(11137, 15742), dtype=int32, chunksize=(5792, 5792), chunktype=numpy.ndarray>, dask.array<array, shape=(2785, 3936), dtype=int32, chunksize=(2785, 3936), chunktype=numpy.ndarray>, dask.array<array, shape=(697, 984), dtype=int32, chunksize=(697, 984), chunktype=numpy.ndarray>, dask.array<array, shape=(175, 246), dtype=int32, chunksize=(175, 246), chunktype=numpy.ndarray>]\n",
      "Type of celltype_mask: <class 'bool'>\n",
      "Processing Global...\n",
      "Processing AllOthers...\n",
      "Processing Mye_stro...\n",
      "Processing Lymphoid...\n",
      "Processing Tumor...\n",
      "Processing Myeloid...\n"
     ]
    }
   ],
   "source": [
    "@magicgui(call_button='Run Tribus', output_folder={\"mode\": \"w\", \"mode\": \"d\"})\n",
    "def run_tribus_classify(celltype_mask: bool,  probability_mask: bool, marker_intensity_mask: bool, marker: str = 'type a marker', depth: int = 1, tuning: int=5, sigma=0.5, \n",
    "                        learning_rate=0.5, clustering_threshold: int=15000, undefined_threshold=0.01, other_threshold=0.4, mask_path = Path(), sample_data = Path(),logic = Path(), output_folder=Path()):\n",
    "\n",
    "    print(celltype_mask, marker_intensity_mask, probability_mask)\n",
    "    label_df = pd.ExcelFile(logic)\n",
    "    label_data = pd.read_excel(label_df, label_df.sheet_names, index_col='Marker')\n",
    "    level_list = list(range(depth))\n",
    "    \n",
    "    dat = pd.read_csv(sample_data)\n",
    "    \n",
    "    res, prob = run_tribus(input_df=dat, logic = label_data, depth = depth, normalization=None, tuning=tuning, sigma=sigma, learning_rate=learning_rate, \n",
    "                                                clustering_threshold=clustering_threshold, undefined_threshold=undefined_threshold,\n",
    "                                                other_threshold=other_threshold, random_state=None)\n",
    "    \n",
    "    res['ID'] = dat['ID']\n",
    "    prob['ID'] = dat['ID']\n",
    "\n",
    "    res.to_csv(str(output_folder) + '/labels.csv')\n",
    "    prob.to_csv(str(output_folder) + '/probability_scores.csv')\n",
    "    \n",
    "    ch=0\n",
    "    image = tiff.TiffFile(mask_path)\n",
    "    print(image)\n",
    "    img = image.pages[ch].asarray()\n",
    "    print(img)\n",
    "    pyramid = [img[::4**i, ::4**i] for i in range(4) ]\n",
    "    pyramid = [da.from_array(z) for z in pyramid]\n",
    "    \n",
    "    print(pyramid)\n",
    "    \n",
    "    print(f\"Type of celltype_mask: {type(celltype_mask)}\")\n",
    "\n",
    "    if celltype_mask == True:\n",
    "        c_table = res\n",
    "        cts = c_table['final_label'].unique()\n",
    "        ids = c_table['ID'].unique()\n",
    "        filtered_cellIDs = c_table.loc[c_table['final_label'] == cts[0], 'ID'].values    \n",
    "\n",
    "        colors = distinctipy.get_colors(len(cts), pastel_factor=0.6, exclude_colors = excluded_colors)\n",
    "        hex_colors = [to_hex(color) for color in colors]\n",
    "\n",
    "        for celltype in range(len(cts)):\n",
    "            color = list(colors[celltype])\n",
    "            color.append(1)\n",
    "            new_cmap = napari.utils.colormaps.Colormap(colors = np.array([[0.0, 0.0, 0.0, 0.0],color]), name = hex_colors[celltype])\n",
    "            print(cts[celltype])\n",
    "            filtered_cellIDs = c_table.loc[c_table['final_label'] == cts[celltype], 'ID'].values \n",
    "            filtered_pyramid = [da.map_blocks(filter_and_transform, layer, filtered_cellIDs, dtype=np.uint8) for layer in pyramid]\n",
    "            viewer.add_image(filtered_pyramid, colormap= new_cmap, name= cts[celltype] + '_mask', blending = 'translucent', contrast_limits=(0,1))  \n",
    "\n",
    "    if marker_intensity_mask == True:\n",
    "        marker_to_display = marker\n",
    "        print(marker_to_display)\n",
    "        np.set_printoptions(suppress=True)\n",
    "        keys = dat.iloc[:,0]\n",
    "        values = dat.loc[:, marker_to_display]\n",
    "        d = dict(zip(keys, values))\n",
    "        markermask = np.vectorize(d.get)(pyramid[0], 0.0)\n",
    "        viewer.add_image(markermask, name=(marker_to_display + '_intensity') ,colormap='magma')\n",
    "\n",
    "    if probability_mask == True:\n",
    "        prob_table = prob\n",
    "        sheet_names = label_df.sheet_names  # Assuming these are the columns representing the cell types\n",
    "    \n",
    "        # Loop over each sheet name (corresponding to cell types)\n",
    "        for sheet_name in sheet_names:\n",
    "            print(f\"Processing {sheet_name}...\")\n",
    "            \n",
    "            # Get the column corresponding to the current sheet name (cell type)\n",
    "            prob_column = prob_table[sheet_name]\n",
    "            \n",
    "            # Create a dictionary mapping cell IDs (where probability is not NA) to their probability values\n",
    "            valid_ids = prob_table.loc[~prob_column.isna(), 'ID'].values  # Extract valid cell IDs\n",
    "            probabilities = prob_table.loc[~prob_column.isna(), sheet_name].values  # Extract corresponding probabilities\n",
    "            \n",
    "            # Map the valid cell IDs to their probabilities\n",
    "            prob_dict = dict(zip(valid_ids, probabilities))\n",
    "            \n",
    "            # Create a mask: replace cell IDs in the original mask with their corresponding probabilities\n",
    "            # Use np.vectorize to apply the dictionary lookup element-wise\n",
    "            prob_mask = np.vectorize(prob_dict.get)(pyramid[0], 0.0)  # pyramid[0] is the highest resolution layer\n",
    "            \n",
    "            # Visualize the mask with the 'magma' colormap (for intensity display)\n",
    "            viewer.add_image(prob_mask, name=(sheet_name + '_intensity'), colormap='magma', blending='translucent', contrast_limits=(0, 1))\n",
    "    \n",
    "viewer.window.add_dock_widget(run_tribus_classify)\n",
    "    \n",
    "    "
   ]
  },
  {
   "cell_type": "markdown",
   "id": "099f486d-1c56-4fe1-ba61-e10f83e70da8",
   "metadata": {
    "collapsed": true,
    "jupyter": {
     "outputs_hidden": true
    }
   },
   "source": [
    "### Visualize existing data"
   ]
  },
  {
   "cell_type": "code",
   "execution_count": null,
   "id": "e4ed4ff4-0bd6-4a78-96e3-935602c371de",
   "metadata": {},
   "outputs": [],
   "source": [
    "#Visualize cell types\n",
    "@magicgui(call_button = 'Show celltype masks')\n",
    "def show_celltypes(mask_path = Path(), labels = Path()):\n",
    "\n",
    "    c_table = pd.read_csv(labels)\n",
    "    cts = c_table['final_label'].unique()\n",
    "    ids = c_table['ID'].unique()\n",
    "    filtered_cellIDs = c_table.loc[c_table['final_label'] == cts[0], 'ID'].values \n",
    "\n",
    "    channel=0\n",
    "    image = tiff.TiffFile(mask_path)\n",
    "    img = image.pages[channel].asarray()\n",
    "    pyramid = [img[::4**i, ::4**i] for i in range(4) ]\n",
    "    pyramid = [da.from_array(z) for z in pyramid]\n",
    "\n",
    "    colors = distinctipy.get_colors(len(cts), pastel_factor=0.6, exclude_colors = excluded_colors)\n",
    "    hex_colors = [to_hex(color) for color in colors]\n",
    "    \n",
    "    for celltype in range(len(cts)):\n",
    "        color = list(colors[celltype])\n",
    "        color.append(1)\n",
    "        new_cmap = napari.utils.colormaps.Colormap(colors = np.array([[0.0, 0.0, 0.0, 0.0],color]), name = hex_colors[celltype])\n",
    "        print(cts[celltype])\n",
    "        filtered_cellIDs = c_table.loc[c_table['final_label'] == cts[celltype], 'ID'].values \n",
    "        filtered_pyramid = [da.map_blocks(filter_and_transform, layer, filtered_cellIDs, dtype=np.uint8) for layer in pyramid]\n",
    "        viewer.add_image(filtered_pyramid, colormap= new_cmap, name= cts[celltype] + '_mask', blending = 'translucent', contrast_limits=(0,1))  \n",
    "\n",
    "viewer.window.add_dock_widget(show_celltypes)"
   ]
  },
  {
   "cell_type": "code",
   "execution_count": 26,
   "id": "b4291357-5ab8-4f18-895d-43943366def1",
   "metadata": {},
   "outputs": [
    {
     "data": {
      "text/plain": [
       "<napari._qt.widgets.qt_viewer_dock_widget.QtViewerDockWidget at 0x22f10cc1910>"
      ]
     },
     "execution_count": 26,
     "metadata": {},
     "output_type": "execute_result"
    },
    {
     "name": "stdout",
     "output_type": "stream",
     "text": [
      "CD8a\n",
      "E-cadherin\n"
     ]
    }
   ],
   "source": [
    "#Visualize marker intensities\n",
    "@magicgui(call_button = 'Show celltype masks')\n",
    "def show_marker_intensities(marker: str = 'type a marker', mask_path = Path(), quantification = Path()):\n",
    "\n",
    "        channel=0\n",
    "        image = tiff.TiffFile(mask_path)\n",
    "        img = image.pages[channel].asarray()\n",
    "        pyramid = [img[::4**i, ::4**i] for i in range(4) ]\n",
    "        pyramid = [da.from_array(z) for z in pyramid]\n",
    "\n",
    "        dat = pd.read_csv(quantification)\n",
    "    \n",
    "        marker_to_display = marker\n",
    "        print(marker_to_display)\n",
    "        np.set_printoptions(suppress=True)\n",
    "        keys = dat.iloc[:,0]\n",
    "        values = dat.loc[:, marker_to_display]\n",
    "        d = dict(zip(keys, values))\n",
    "        markermask = np.vectorize(d.get)(pyramid[0], 0.0)\n",
    "        viewer.add_image(markermask, name=(marker_to_display + '_intensity') ,colormap='magma')\n",
    "\n",
    "viewer.window.add_dock_widget(show_marker_intensities)"
   ]
  },
  {
   "cell_type": "code",
   "execution_count": null,
   "id": "d5a6a608-b694-4b0f-8e67-6889c378feac",
   "metadata": {},
   "outputs": [],
   "source": []
  }
 ],
 "metadata": {
  "anaconda-cloud": {},
  "kernelspec": {
   "display_name": "tribus_full_napari",
   "language": "python",
   "name": "tribus_full_napari"
  },
  "language_info": {
   "codemirror_mode": {
    "name": "ipython",
    "version": 3
   },
   "file_extension": ".py",
   "mimetype": "text/x-python",
   "name": "python",
   "nbconvert_exporter": "python",
   "pygments_lexer": "ipython3",
   "version": "3.12.5"
  }
 },
 "nbformat": 4,
 "nbformat_minor": 5
}
