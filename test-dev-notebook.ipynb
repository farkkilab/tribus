{
 "metadata": {
  "language_info": {
   "codemirror_mode": {
    "name": "ipython",
    "version": 3
   },
   "file_extension": ".py",
   "mimetype": "text/x-python",
   "name": "python",
   "nbconvert_exporter": "python",
   "pygments_lexer": "ipython3",
   "version": "3.7.3"
  },
  "orig_nbformat": 2,
  "kernelspec": {
   "name": "python373jvsc74a57bd0b5cc7183b7ef34ba1bdf1334fa1d983083978baf1b9c433844bc0d59f26bfd1c",
   "display_name": "Python 3.7.3 64-bit ('base': conda)"
  }
 },
 "nbformat": 4,
 "nbformat_minor": 2,
 "cells": [
  {
   "source": [
    "# Space to test functions before adding them to classify.py"
   ],
   "cell_type": "markdown",
   "metadata": {}
  },
  {
   "cell_type": "code",
   "execution_count": 5,
   "metadata": {},
   "outputs": [],
   "source": [
    "import numpy as np\n",
    "import pandas as pd\n",
    "from minisom import MiniSom\n",
    "import os"
   ]
  },
  {
   "cell_type": "code",
   "execution_count": 8,
   "metadata": {},
   "outputs": [],
   "source": [
    "os.getcwd()\n",
    "os.chdir(\"..\\\\test-data\")\n"
   ]
  },
  {
   "cell_type": "code",
   "execution_count": 15,
   "metadata": {},
   "outputs": [
    {
     "output_type": "stream",
     "name": "stdout",
     "text": [
      "53768.csv\nGlobal\n"
     ]
    }
   ],
   "source": [
    "# Hard coded file names (in the app it comes from the UI)\n",
    "input_path='input_data'\n",
    "logic_path='gate_logic_1.xlsx'\n",
    "output_folder='test_results'\n",
    "# Get user priors from the input gate logic\n",
    "df = pd.ExcelFile(logic_path)\n",
    "labels = pd.read_excel(df, df.sheet_names, index_col=0)\n",
    "levels = list(labels.keys())\n",
    "filenames=os.listdir(input_path) \n",
    "# As if we were in the i=0 j=0 of the for loop\n",
    "samplefile=filenames[0]\n",
    "level=levels[0]\n",
    "print(samplefile)\n",
    "print(level)\n"
   ]
  },
  {
   "cell_type": "code",
   "execution_count": 17,
   "metadata": {},
   "outputs": [],
   "source": [
    "sample_data=pd.read_csv(os.path.join(input_path,samplefile))\n",
    "# Test if the gating needs columns that don't exist\n",
    "if set(labels[level].index.values) <= set(sample_data.columns.values):\n",
    "    print(\"uh oh\")\n",
    "gating_data=sample_data[sample_data.columns[sample_data.columns.isin(labels[level].index.values)]]"
   ]
  },
  {
   "cell_type": "code",
   "execution_count": null,
   "metadata": {},
   "outputs": [],
   "source": []
  },
  {
   "source": [
    "Test flowgrid and SOM clustering for speed with very high granularity, what is the largest number of nodes we can use for scoring?\n"
   ],
   "cell_type": "markdown",
   "metadata": {}
  },
  {
   "source": [],
   "cell_type": "markdown",
   "metadata": {}
  },
  {
   "source": [
    "## Test if we can use GPU acceleration to calculate the label score by cell instead of by clustering\n"
   ],
   "cell_type": "markdown",
   "metadata": {}
  }
 ]
}