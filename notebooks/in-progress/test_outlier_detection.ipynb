{
 "cells": [
  {
   "cell_type": "markdown",
   "metadata": {},
   "source": [
    "# Steps to apply density based outlier removal\n",
    "\n",
    "This method is implemented based on the LOF2 method proposed in this article https://opengeospatialdata.springeropen.com/articles/10.1186/s40965-018-0056-5\n",
    "\n",
    "### 1. Load packages"
   ]
  },
  {
   "cell_type": "code",
   "execution_count": 1,
   "metadata": {},
   "outputs": [
    {
     "ename": "ModuleNotFoundError",
     "evalue": "No module named 'hdbscan'",
     "output_type": "error",
     "traceback": [
      "\u001b[1;31m---------------------------------------------------------------------------\u001b[0m",
      "\u001b[1;31mModuleNotFoundError\u001b[0m                       Traceback (most recent call last)",
      "\u001b[1;32m<ipython-input-1-2b5bd87452f7>\u001b[0m in \u001b[0;36m<module>\u001b[1;34m\u001b[0m\n\u001b[0;32m      9\u001b[0m \u001b[1;32mfrom\u001b[0m \u001b[0msklearn\u001b[0m \u001b[1;32mimport\u001b[0m \u001b[0mpreprocessing\u001b[0m\u001b[1;33m\u001b[0m\u001b[1;33m\u001b[0m\u001b[0m\n\u001b[0;32m     10\u001b[0m \u001b[1;32mfrom\u001b[0m \u001b[0msklearn\u001b[0m\u001b[1;33m.\u001b[0m\u001b[0mcluster\u001b[0m \u001b[1;32mimport\u001b[0m \u001b[0mOPTICS\u001b[0m\u001b[1;33m\u001b[0m\u001b[1;33m\u001b[0m\u001b[0m\n\u001b[1;32m---> 11\u001b[1;33m \u001b[1;32mimport\u001b[0m \u001b[0mhdbscan\u001b[0m\u001b[1;33m\u001b[0m\u001b[1;33m\u001b[0m\u001b[0m\n\u001b[0m\u001b[0;32m     12\u001b[0m \u001b[1;33m\u001b[0m\u001b[0m\n\u001b[0;32m     13\u001b[0m \u001b[1;32mimport\u001b[0m \u001b[0mwarnings\u001b[0m\u001b[1;33m\u001b[0m\u001b[1;33m\u001b[0m\u001b[0m\n",
      "\u001b[1;31mModuleNotFoundError\u001b[0m: No module named 'hdbscan'"
     ]
    }
   ],
   "source": [
    "import os, sys, datetime, shutil\n",
    "import pandas as pd\n",
    "import numpy as np\n",
    "import seaborn as sns\n",
    "import matplotlib.pyplot as plt\n",
    "import sklearn.neighbors as nn\n",
    "import scipy.stats as stats\n",
    "from statsmodels import robust\n",
    "from sklearn import preprocessing\n",
    "from sklearn.cluster import OPTICS\n",
    "import hdbscan\n",
    "\n",
    "import warnings\n",
    "warnings.simplefilter(action='ignore', category=FutureWarning)"
   ]
  },
  {
   "cell_type": "code",
   "execution_count": 3,
   "metadata": {},
   "outputs": [
    {
     "name": "stdout",
     "output_type": "stream",
     "text": [
      "['TMA_18_810_cellTypes.csv', 'TMA_34_504_cellTypes.csv']\n"
     ]
    }
   ],
   "source": [
    "path_in = \"D:/Projects/Tribus_project/tests/nki_cycif/input_data\" # note the slash is in UNIX form\n",
    "filenames=os.listdir(path_in)\n",
    "print(filenames)"
   ]
  },
  {
   "cell_type": "markdown",
   "metadata": {},
   "source": [
    "## Test for one file"
   ]
  },
  {
   "cell_type": "code",
   "execution_count": 4,
   "metadata": {},
   "outputs": [],
   "source": [
    "samplefile = filenames[0]\n",
    "input_path = os.path.join(path_in,samplefile)\n",
    "data_input = pd.read_csv(input_path)"
   ]
  },
  {
   "cell_type": "code",
   "execution_count": 25,
   "metadata": {},
   "outputs": [
    {
     "data": {
      "text/html": [
       "<div>\n",
       "<style scoped>\n",
       "    .dataframe tbody tr th:only-of-type {\n",
       "        vertical-align: middle;\n",
       "    }\n",
       "\n",
       "    .dataframe tbody tr th {\n",
       "        vertical-align: top;\n",
       "    }\n",
       "\n",
       "    .dataframe thead th {\n",
       "        text-align: right;\n",
       "    }\n",
       "</style>\n",
       "<table border=\"1\" class=\"dataframe\">\n",
       "  <thead>\n",
       "    <tr style=\"text-align: right;\">\n",
       "      <th></th>\n",
       "      <th>Row_number</th>\n",
       "      <th>CoreId</th>\n",
       "      <th>CellId</th>\n",
       "      <th>DNA1</th>\n",
       "      <th>BG488</th>\n",
       "      <th>BG555</th>\n",
       "      <th>BG647</th>\n",
       "      <th>DNA2</th>\n",
       "      <th>CD11c</th>\n",
       "      <th>CD207</th>\n",
       "      <th>...</th>\n",
       "      <th>Eccentricity</th>\n",
       "      <th>Solidity</th>\n",
       "      <th>Perimeter</th>\n",
       "      <th>Roundness</th>\n",
       "      <th>X_position</th>\n",
       "      <th>Y_position</th>\n",
       "      <th>lost</th>\n",
       "      <th>Inside_ROI</th>\n",
       "      <th>GlobalCellType</th>\n",
       "      <th>out_of_core</th>\n",
       "    </tr>\n",
       "  </thead>\n",
       "  <tbody>\n",
       "    <tr>\n",
       "      <th>0</th>\n",
       "      <td>0</td>\n",
       "      <td>100</td>\n",
       "      <td>1</td>\n",
       "      <td>3000.303030</td>\n",
       "      <td>907.954545</td>\n",
       "      <td>467.803030</td>\n",
       "      <td>1520.333333</td>\n",
       "      <td>1840.742424</td>\n",
       "      <td>655.151515</td>\n",
       "      <td>873.272727</td>\n",
       "      <td>...</td>\n",
       "      <td>0.290195</td>\n",
       "      <td>0.985075</td>\n",
       "      <td>26.614</td>\n",
       "      <td>1.170937</td>\n",
       "      <td>869.151515</td>\n",
       "      <td>95.363636</td>\n",
       "      <td>False</td>\n",
       "      <td>0</td>\n",
       "      <td>Stromal</td>\n",
       "      <td>Inside.core</td>\n",
       "    </tr>\n",
       "    <tr>\n",
       "      <th>1</th>\n",
       "      <td>1</td>\n",
       "      <td>100</td>\n",
       "      <td>2</td>\n",
       "      <td>7147.951220</td>\n",
       "      <td>1348.203252</td>\n",
       "      <td>433.780488</td>\n",
       "      <td>1445.788618</td>\n",
       "      <td>4649.520325</td>\n",
       "      <td>892.235772</td>\n",
       "      <td>1118.804878</td>\n",
       "      <td>...</td>\n",
       "      <td>0.716599</td>\n",
       "      <td>0.960938</td>\n",
       "      <td>38.291</td>\n",
       "      <td>1.054196</td>\n",
       "      <td>911.048780</td>\n",
       "      <td>95.430894</td>\n",
       "      <td>False</td>\n",
       "      <td>0</td>\n",
       "      <td>Stromal</td>\n",
       "      <td>Inside.core</td>\n",
       "    </tr>\n",
       "    <tr>\n",
       "      <th>2</th>\n",
       "      <td>2</td>\n",
       "      <td>100</td>\n",
       "      <td>3</td>\n",
       "      <td>11127.016529</td>\n",
       "      <td>1338.280992</td>\n",
       "      <td>409.776860</td>\n",
       "      <td>1482.198347</td>\n",
       "      <td>7460.876033</td>\n",
       "      <td>881.975207</td>\n",
       "      <td>1177.454545</td>\n",
       "      <td>...</td>\n",
       "      <td>0.628134</td>\n",
       "      <td>0.975806</td>\n",
       "      <td>37.431</td>\n",
       "      <td>1.085256</td>\n",
       "      <td>921.950413</td>\n",
       "      <td>97.297521</td>\n",
       "      <td>False</td>\n",
       "      <td>0</td>\n",
       "      <td>Stromal</td>\n",
       "      <td>Inside.core</td>\n",
       "    </tr>\n",
       "    <tr>\n",
       "      <th>3</th>\n",
       "      <td>3</td>\n",
       "      <td>100</td>\n",
       "      <td>4</td>\n",
       "      <td>7277.044118</td>\n",
       "      <td>1079.713235</td>\n",
       "      <td>516.286765</td>\n",
       "      <td>1459.183824</td>\n",
       "      <td>4980.132353</td>\n",
       "      <td>764.198529</td>\n",
       "      <td>1123.448529</td>\n",
       "      <td>...</td>\n",
       "      <td>0.644473</td>\n",
       "      <td>0.931507</td>\n",
       "      <td>41.450</td>\n",
       "      <td>0.994717</td>\n",
       "      <td>934.794118</td>\n",
       "      <td>98.132353</td>\n",
       "      <td>False</td>\n",
       "      <td>0</td>\n",
       "      <td>Stromal</td>\n",
       "      <td>Inside.core</td>\n",
       "    </tr>\n",
       "    <tr>\n",
       "      <th>4</th>\n",
       "      <td>4</td>\n",
       "      <td>100</td>\n",
       "      <td>5</td>\n",
       "      <td>3532.065934</td>\n",
       "      <td>696.571429</td>\n",
       "      <td>280.868132</td>\n",
       "      <td>1147.373626</td>\n",
       "      <td>2336.945055</td>\n",
       "      <td>571.362637</td>\n",
       "      <td>655.945055</td>\n",
       "      <td>...</td>\n",
       "      <td>0.428384</td>\n",
       "      <td>0.989130</td>\n",
       "      <td>31.088</td>\n",
       "      <td>1.183221</td>\n",
       "      <td>1065.901099</td>\n",
       "      <td>100.054945</td>\n",
       "      <td>False</td>\n",
       "      <td>0</td>\n",
       "      <td>Stromal</td>\n",
       "      <td>Inside.core</td>\n",
       "    </tr>\n",
       "    <tr>\n",
       "      <th>...</th>\n",
       "      <td>...</td>\n",
       "      <td>...</td>\n",
       "      <td>...</td>\n",
       "      <td>...</td>\n",
       "      <td>...</td>\n",
       "      <td>...</td>\n",
       "      <td>...</td>\n",
       "      <td>...</td>\n",
       "      <td>...</td>\n",
       "      <td>...</td>\n",
       "      <td>...</td>\n",
       "      <td>...</td>\n",
       "      <td>...</td>\n",
       "      <td>...</td>\n",
       "      <td>...</td>\n",
       "      <td>...</td>\n",
       "      <td>...</td>\n",
       "      <td>...</td>\n",
       "      <td>...</td>\n",
       "      <td>...</td>\n",
       "      <td>...</td>\n",
       "    </tr>\n",
       "    <tr>\n",
       "      <th>765800</th>\n",
       "      <td>779634</td>\n",
       "      <td>9</td>\n",
       "      <td>9586</td>\n",
       "      <td>4995.435000</td>\n",
       "      <td>755.184800</td>\n",
       "      <td>217.260900</td>\n",
       "      <td>1019.554000</td>\n",
       "      <td>2931.250000</td>\n",
       "      <td>893.826100</td>\n",
       "      <td>723.173900</td>\n",
       "      <td>...</td>\n",
       "      <td>0.625744</td>\n",
       "      <td>0.978723</td>\n",
       "      <td>31.576</td>\n",
       "      <td>1.159534</td>\n",
       "      <td>1861.620000</td>\n",
       "      <td>2339.152000</td>\n",
       "      <td>False</td>\n",
       "      <td>0</td>\n",
       "      <td>Stromal</td>\n",
       "      <td>Inside.core</td>\n",
       "    </tr>\n",
       "    <tr>\n",
       "      <th>765801</th>\n",
       "      <td>779635</td>\n",
       "      <td>9</td>\n",
       "      <td>9587</td>\n",
       "      <td>27756.240000</td>\n",
       "      <td>1250.779000</td>\n",
       "      <td>404.022900</td>\n",
       "      <td>1220.885000</td>\n",
       "      <td>16772.710000</td>\n",
       "      <td>1970.687000</td>\n",
       "      <td>1408.954000</td>\n",
       "      <td>...</td>\n",
       "      <td>0.442473</td>\n",
       "      <td>0.970370</td>\n",
       "      <td>37.646</td>\n",
       "      <td>1.161565</td>\n",
       "      <td>1755.672000</td>\n",
       "      <td>2340.733000</td>\n",
       "      <td>False</td>\n",
       "      <td>0</td>\n",
       "      <td>Lymphoid2</td>\n",
       "      <td>Inside.core</td>\n",
       "    </tr>\n",
       "    <tr>\n",
       "      <th>765802</th>\n",
       "      <td>779636</td>\n",
       "      <td>9</td>\n",
       "      <td>9588</td>\n",
       "      <td>18038.490000</td>\n",
       "      <td>1322.504000</td>\n",
       "      <td>673.254400</td>\n",
       "      <td>1521.991000</td>\n",
       "      <td>10789.080000</td>\n",
       "      <td>962.258800</td>\n",
       "      <td>1515.763000</td>\n",
       "      <td>...</td>\n",
       "      <td>0.738995</td>\n",
       "      <td>0.966102</td>\n",
       "      <td>52.814</td>\n",
       "      <td>1.027180</td>\n",
       "      <td>1770.794000</td>\n",
       "      <td>2346.535000</td>\n",
       "      <td>False</td>\n",
       "      <td>0</td>\n",
       "      <td>Stromal</td>\n",
       "      <td>Inside.core</td>\n",
       "    </tr>\n",
       "    <tr>\n",
       "      <th>765803</th>\n",
       "      <td>779637</td>\n",
       "      <td>9</td>\n",
       "      <td>9589</td>\n",
       "      <td>17387.180000</td>\n",
       "      <td>795.502400</td>\n",
       "      <td>288.952200</td>\n",
       "      <td>1199.627000</td>\n",
       "      <td>10340.800000</td>\n",
       "      <td>1199.407000</td>\n",
       "      <td>6044.321000</td>\n",
       "      <td>...</td>\n",
       "      <td>0.543184</td>\n",
       "      <td>0.976635</td>\n",
       "      <td>49.382</td>\n",
       "      <td>1.077008</td>\n",
       "      <td>1691.086000</td>\n",
       "      <td>2347.330000</td>\n",
       "      <td>False</td>\n",
       "      <td>0</td>\n",
       "      <td>Myeloid.cells</td>\n",
       "      <td>Inside.core</td>\n",
       "    </tr>\n",
       "    <tr>\n",
       "      <th>765804</th>\n",
       "      <td>779638</td>\n",
       "      <td>9</td>\n",
       "      <td>9590</td>\n",
       "      <td>4870.210000</td>\n",
       "      <td>553.345700</td>\n",
       "      <td>195.024700</td>\n",
       "      <td>915.654300</td>\n",
       "      <td>2877.235000</td>\n",
       "      <td>902.580200</td>\n",
       "      <td>815.740700</td>\n",
       "      <td>...</td>\n",
       "      <td>0.435806</td>\n",
       "      <td>0.987805</td>\n",
       "      <td>29.128</td>\n",
       "      <td>1.199702</td>\n",
       "      <td>1741.802000</td>\n",
       "      <td>2350.407000</td>\n",
       "      <td>False</td>\n",
       "      <td>0</td>\n",
       "      <td>Tumor</td>\n",
       "      <td>Inside.core</td>\n",
       "    </tr>\n",
       "  </tbody>\n",
       "</table>\n",
       "<p>765196 rows × 64 columns</p>\n",
       "</div>"
      ],
      "text/plain": [
       "        Row_number  CoreId  CellId          DNA1        BG488       BG555  \\\n",
       "0                0     100       1   3000.303030   907.954545  467.803030   \n",
       "1                1     100       2   7147.951220  1348.203252  433.780488   \n",
       "2                2     100       3  11127.016529  1338.280992  409.776860   \n",
       "3                3     100       4   7277.044118  1079.713235  516.286765   \n",
       "4                4     100       5   3532.065934   696.571429  280.868132   \n",
       "...            ...     ...     ...           ...          ...         ...   \n",
       "765800      779634       9    9586   4995.435000   755.184800  217.260900   \n",
       "765801      779635       9    9587  27756.240000  1250.779000  404.022900   \n",
       "765802      779636       9    9588  18038.490000  1322.504000  673.254400   \n",
       "765803      779637       9    9589  17387.180000   795.502400  288.952200   \n",
       "765804      779638       9    9590   4870.210000   553.345700  195.024700   \n",
       "\n",
       "              BG647          DNA2        CD11c        CD207  ...  \\\n",
       "0       1520.333333   1840.742424   655.151515   873.272727  ...   \n",
       "1       1445.788618   4649.520325   892.235772  1118.804878  ...   \n",
       "2       1482.198347   7460.876033   881.975207  1177.454545  ...   \n",
       "3       1459.183824   4980.132353   764.198529  1123.448529  ...   \n",
       "4       1147.373626   2336.945055   571.362637   655.945055  ...   \n",
       "...             ...           ...          ...          ...  ...   \n",
       "765800  1019.554000   2931.250000   893.826100   723.173900  ...   \n",
       "765801  1220.885000  16772.710000  1970.687000  1408.954000  ...   \n",
       "765802  1521.991000  10789.080000   962.258800  1515.763000  ...   \n",
       "765803  1199.627000  10340.800000  1199.407000  6044.321000  ...   \n",
       "765804   915.654300   2877.235000   902.580200   815.740700  ...   \n",
       "\n",
       "        Eccentricity  Solidity  Perimeter  Roundness   X_position  \\\n",
       "0           0.290195  0.985075     26.614   1.170937   869.151515   \n",
       "1           0.716599  0.960938     38.291   1.054196   911.048780   \n",
       "2           0.628134  0.975806     37.431   1.085256   921.950413   \n",
       "3           0.644473  0.931507     41.450   0.994717   934.794118   \n",
       "4           0.428384  0.989130     31.088   1.183221  1065.901099   \n",
       "...              ...       ...        ...        ...          ...   \n",
       "765800      0.625744  0.978723     31.576   1.159534  1861.620000   \n",
       "765801      0.442473  0.970370     37.646   1.161565  1755.672000   \n",
       "765802      0.738995  0.966102     52.814   1.027180  1770.794000   \n",
       "765803      0.543184  0.976635     49.382   1.077008  1691.086000   \n",
       "765804      0.435806  0.987805     29.128   1.199702  1741.802000   \n",
       "\n",
       "         Y_position   lost  Inside_ROI  GlobalCellType  out_of_core  \n",
       "0         95.363636  False           0         Stromal  Inside.core  \n",
       "1         95.430894  False           0         Stromal  Inside.core  \n",
       "2         97.297521  False           0         Stromal  Inside.core  \n",
       "3         98.132353  False           0         Stromal  Inside.core  \n",
       "4        100.054945  False           0         Stromal  Inside.core  \n",
       "...             ...    ...         ...             ...          ...  \n",
       "765800  2339.152000  False           0         Stromal  Inside.core  \n",
       "765801  2340.733000  False           0       Lymphoid2  Inside.core  \n",
       "765802  2346.535000  False           0         Stromal  Inside.core  \n",
       "765803  2347.330000  False           0   Myeloid.cells  Inside.core  \n",
       "765804  2350.407000  False           0           Tumor  Inside.core  \n",
       "\n",
       "[765196 rows x 64 columns]"
      ]
     },
     "execution_count": 25,
     "metadata": {},
     "output_type": "execute_result"
    }
   ],
   "source": [
    "df = data_input[data_input.Inside_ROI == 0]\n",
    "df"
   ]
  },
  {
   "cell_type": "code",
   "execution_count": 18,
   "metadata": {},
   "outputs": [
    {
     "name": "stdout",
     "output_type": "stream",
     "text": [
      "{False}\n",
      "{0, 1}\n",
      "{'Myeloid.cells', 'Stromal', 'Lymphoid2', 'InsideROI', 'LowDapi', 'Tumor', 'Other', 'Lymphoid1'}\n",
      "{'Inside.core'}\n"
     ]
    }
   ],
   "source": [
    "print(set(data_input.lost))\n",
    "print(set(data_input.Inside_ROI))\n",
    "print(set(data_input.GlobalCellType))\n",
    "print(set(data_input.out_of_core))"
   ]
  },
  {
   "cell_type": "markdown",
   "metadata": {},
   "source": [
    "#### This part is only if you don't know the files"
   ]
  },
  {
   "cell_type": "code",
   "execution_count": 7,
   "metadata": {},
   "outputs": [],
   "source": [
    "# Uncomment to see the column names in the input\n",
    "#print(data_input.columns)\n",
    "\n",
    "# This is the list of features that are used for cell to cell similarity\n",
    "CHANNEL_COLNAMES = ['DNA1', 'BG488', 'BG555', 'BG647',\n",
    "       'DNA2', 'CD11c', 'CD207', 'GranzymeB', 'DNA3', 'CD163', 'CD57', 'CD20',\n",
    "       'DNA4', 'CD4', 'CD3d', 'CD8a', 'DNA5', 'TIM3', 'pSTAT1', 'DNA6',\n",
    "       'CD45RO', 'FOXP3', 'PD1', 'DNA7', 'pTBK1', 'CD68', 'PDL1_2', 'DNA8',\n",
    "       'CD15', 'CD11b', 'yH2AX', 'DNA9', 'PDL1_488', 'PDL1_555', 'cPARP1',\n",
    "       'DNA10', 'Ki67', 'Vimentin', 'MHCII', 'DNA11', 'LaminB1', 'CK7', 'MHCI',\n",
    "       'DNA12', 'ECadherin', 'aSMA', 'CD31', 'Area']\n",
    "META_COLNAMES = ['Row_number', 'CoreId', 'CellId', 'X_position', 'Y_position', 'lost', 'Inside_ROI', 'GlobalCellType',\n",
    "       'out_of_core']\n",
    "UNUSED_COLNAMES = ['MajorAxisLength',\n",
    "       'MinorAxisLength', 'Eccentricity', 'Solidity', 'Perimeter', 'Roundness']\n"
   ]
  },
  {
   "cell_type": "code",
   "execution_count": 26,
   "metadata": {},
   "outputs": [],
   "source": [
    "array_data = df[CHANNEL_COLNAMES].to_numpy()\n",
    "log_data = np.log1p(array_data)"
   ]
  },
  {
   "cell_type": "code",
   "execution_count": 8,
   "metadata": {},
   "outputs": [
    {
     "data": {
      "text/plain": [
       "array([1, 1, 1, ..., 1, 1, 1])"
      ]
     },
     "execution_count": 8,
     "metadata": {},
     "output_type": "execute_result"
    }
   ],
   "source": [
    "array_data = data_input[CHANNEL_COLNAMES].to_numpy()\n",
    "log_data = np.log1p(array_data)\n",
    "scaled_data = preprocessing.RobustScaler().fit(log_data).transform(log_data)"
   ]
  },
  {
   "cell_type": "code",
   "execution_count": 27,
   "metadata": {},
   "outputs": [
    {
     "data": {
      "text/plain": [
       "array([1, 1, 1, ..., 1, 1, 1])"
      ]
     },
     "execution_count": 27,
     "metadata": {},
     "output_type": "execute_result"
    }
   ],
   "source": [
    "# This computes the outlier score 765196\n",
    "clf = nn.LocalOutlierFactor(n_jobs=18, n_neighbors=30, algorithm='kd_tree')\n",
    "clf.fit_predict(log_data)"
   ]
  },
  {
   "cell_type": "code",
   "execution_count": 28,
   "metadata": {},
   "outputs": [
    {
     "data": {
      "text/plain": [
       "<AxesSubplot:ylabel='Density'>"
      ]
     },
     "execution_count": 28,
     "metadata": {},
     "output_type": "execute_result"
    },
    {
     "data": {
      "image/png": "[encoded data removed]",
      "text/plain": [
       "<Figure size 1800x720 with 1 Axes>"
      ]
     },
     "metadata": {
      "needs_background": "light"
     },
     "output_type": "display_data"
    }
   ],
   "source": [
    "s = clf.negative_outlier_factor_\n",
    "mad_lof = abs(s - np.median(s))\n",
    "plt.subplots(figsize=(25,10))\n",
    "sns.distplot(a=mad_lof, hist=False, kde=True, rug=True,\n",
    "    rug_kws={'height': .05, 'color': 'black'},\n",
    "    kde_kws={'linewidth': 2})"
   ]
  },
  {
   "cell_type": "code",
   "execution_count": 44,
   "metadata": {},
   "outputs": [
    {
     "ename": "KeyboardInterrupt",
     "evalue": "",
     "output_type": "error",
     "traceback": [
      "\u001b[1;31m---------------------------------------------------------------------------\u001b[0m",
      "\u001b[1;31mKeyboardInterrupt\u001b[0m                         Traceback (most recent call last)",
      "\u001b[1;32m<ipython-input-44-1d9ef7aa704a>\u001b[0m in \u001b[0;36m<module>\u001b[1;34m\u001b[0m\n\u001b[0;32m      1\u001b[0m \u001b[0mclust\u001b[0m \u001b[1;33m=\u001b[0m \u001b[0mOPTICS\u001b[0m\u001b[1;33m(\u001b[0m\u001b[0mmin_samples\u001b[0m\u001b[1;33m=\u001b[0m\u001b[1;36m50\u001b[0m\u001b[1;33m,\u001b[0m \u001b[0mxi\u001b[0m\u001b[1;33m=\u001b[0m\u001b[1;36m0.05\u001b[0m\u001b[1;33m,\u001b[0m \u001b[0mmin_cluster_size\u001b[0m\u001b[1;33m=\u001b[0m\u001b[1;36m0.05\u001b[0m\u001b[1;33m,\u001b[0m \u001b[0mn_jobs\u001b[0m\u001b[1;33m=\u001b[0m\u001b[1;36m18\u001b[0m\u001b[1;33m)\u001b[0m\u001b[1;33m\u001b[0m\u001b[1;33m\u001b[0m\u001b[0m\n\u001b[1;32m----> 2\u001b[1;33m \u001b[0mclust\u001b[0m\u001b[1;33m.\u001b[0m\u001b[0mfit\u001b[0m\u001b[1;33m(\u001b[0m\u001b[0mscaled_data\u001b[0m\u001b[1;33m)\u001b[0m\u001b[1;33m\u001b[0m\u001b[1;33m\u001b[0m\u001b[0m\n\u001b[0m",
      "\u001b[1;32mC:\\Hyapp\\Anaconda3-2019.3\\envs\\tribus\\lib\\site-packages\\sklearn\\cluster\\_optics.py\u001b[0m in \u001b[0;36mfit\u001b[1;34m(self, X, y)\u001b[0m\n\u001b[0;32m    252\u001b[0m \u001b[1;33m\u001b[0m\u001b[0m\n\u001b[0;32m    253\u001b[0m         (self.ordering_, self.core_distances_, self.reachability_,\n\u001b[1;32m--> 254\u001b[1;33m          \u001b[0mself\u001b[0m\u001b[1;33m.\u001b[0m\u001b[0mpredecessor_\u001b[0m\u001b[1;33m)\u001b[0m \u001b[1;33m=\u001b[0m \u001b[0mcompute_optics_graph\u001b[0m\u001b[1;33m(\u001b[0m\u001b[1;33m\u001b[0m\u001b[1;33m\u001b[0m\u001b[0m\n\u001b[0m\u001b[0;32m    255\u001b[0m              \u001b[0mX\u001b[0m\u001b[1;33m=\u001b[0m\u001b[0mX\u001b[0m\u001b[1;33m,\u001b[0m \u001b[0mmin_samples\u001b[0m\u001b[1;33m=\u001b[0m\u001b[0mself\u001b[0m\u001b[1;33m.\u001b[0m\u001b[0mmin_samples\u001b[0m\u001b[1;33m,\u001b[0m \u001b[0malgorithm\u001b[0m\u001b[1;33m=\u001b[0m\u001b[0mself\u001b[0m\u001b[1;33m.\u001b[0m\u001b[0malgorithm\u001b[0m\u001b[1;33m,\u001b[0m\u001b[1;33m\u001b[0m\u001b[1;33m\u001b[0m\u001b[0m\n\u001b[0;32m    256\u001b[0m              \u001b[0mleaf_size\u001b[0m\u001b[1;33m=\u001b[0m\u001b[0mself\u001b[0m\u001b[1;33m.\u001b[0m\u001b[0mleaf_size\u001b[0m\u001b[1;33m,\u001b[0m \u001b[0mmetric\u001b[0m\u001b[1;33m=\u001b[0m\u001b[0mself\u001b[0m\u001b[1;33m.\u001b[0m\u001b[0mmetric\u001b[0m\u001b[1;33m,\u001b[0m\u001b[1;33m\u001b[0m\u001b[1;33m\u001b[0m\u001b[0m\n",
      "\u001b[1;32mC:\\Hyapp\\Anaconda3-2019.3\\envs\\tribus\\lib\\site-packages\\sklearn\\utils\\validation.py\u001b[0m in \u001b[0;36minner_f\u001b[1;34m(*args, **kwargs)\u001b[0m\n\u001b[0;32m     61\u001b[0m             \u001b[0mextra_args\u001b[0m \u001b[1;33m=\u001b[0m \u001b[0mlen\u001b[0m\u001b[1;33m(\u001b[0m\u001b[0margs\u001b[0m\u001b[1;33m)\u001b[0m \u001b[1;33m-\u001b[0m \u001b[0mlen\u001b[0m\u001b[1;33m(\u001b[0m\u001b[0mall_args\u001b[0m\u001b[1;33m)\u001b[0m\u001b[1;33m\u001b[0m\u001b[1;33m\u001b[0m\u001b[0m\n\u001b[0;32m     62\u001b[0m             \u001b[1;32mif\u001b[0m \u001b[0mextra_args\u001b[0m \u001b[1;33m<=\u001b[0m \u001b[1;36m0\u001b[0m\u001b[1;33m:\u001b[0m\u001b[1;33m\u001b[0m\u001b[1;33m\u001b[0m\u001b[0m\n\u001b[1;32m---> 63\u001b[1;33m                 \u001b[1;32mreturn\u001b[0m \u001b[0mf\u001b[0m\u001b[1;33m(\u001b[0m\u001b[1;33m*\u001b[0m\u001b[0margs\u001b[0m\u001b[1;33m,\u001b[0m \u001b[1;33m**\u001b[0m\u001b[0mkwargs\u001b[0m\u001b[1;33m)\u001b[0m\u001b[1;33m\u001b[0m\u001b[1;33m\u001b[0m\u001b[0m\n\u001b[0m\u001b[0;32m     64\u001b[0m \u001b[1;33m\u001b[0m\u001b[0m\n\u001b[0;32m     65\u001b[0m             \u001b[1;31m# extra_args > 0\u001b[0m\u001b[1;33m\u001b[0m\u001b[1;33m\u001b[0m\u001b[1;33m\u001b[0m\u001b[0m\n",
      "\u001b[1;32mC:\\Hyapp\\Anaconda3-2019.3\\envs\\tribus\\lib\\site-packages\\sklearn\\cluster\\_optics.py\u001b[0m in \u001b[0;36mcompute_optics_graph\u001b[1;34m(X, min_samples, max_eps, metric, p, metric_params, algorithm, leaf_size, n_jobs)\u001b[0m\n\u001b[0;32m    493\u001b[0m         \u001b[0mordering\u001b[0m\u001b[1;33m[\u001b[0m\u001b[0mordering_idx\u001b[0m\u001b[1;33m]\u001b[0m \u001b[1;33m=\u001b[0m \u001b[0mpoint\u001b[0m\u001b[1;33m\u001b[0m\u001b[1;33m\u001b[0m\u001b[0m\n\u001b[0;32m    494\u001b[0m         \u001b[1;32mif\u001b[0m \u001b[0mcore_distances_\u001b[0m\u001b[1;33m[\u001b[0m\u001b[0mpoint\u001b[0m\u001b[1;33m]\u001b[0m \u001b[1;33m!=\u001b[0m \u001b[0mnp\u001b[0m\u001b[1;33m.\u001b[0m\u001b[0minf\u001b[0m\u001b[1;33m:\u001b[0m\u001b[1;33m\u001b[0m\u001b[1;33m\u001b[0m\u001b[0m\n\u001b[1;32m--> 495\u001b[1;33m             _set_reach_dist(core_distances_=core_distances_,\n\u001b[0m\u001b[0;32m    496\u001b[0m                             \u001b[0mreachability_\u001b[0m\u001b[1;33m=\u001b[0m\u001b[0mreachability_\u001b[0m\u001b[1;33m,\u001b[0m\u001b[1;33m\u001b[0m\u001b[1;33m\u001b[0m\u001b[0m\n\u001b[0;32m    497\u001b[0m                             \u001b[0mpredecessor_\u001b[0m\u001b[1;33m=\u001b[0m\u001b[0mpredecessor_\u001b[0m\u001b[1;33m,\u001b[0m\u001b[1;33m\u001b[0m\u001b[1;33m\u001b[0m\u001b[0m\n",
      "\u001b[1;32mC:\\Hyapp\\Anaconda3-2019.3\\envs\\tribus\\lib\\site-packages\\sklearn\\cluster\\_optics.py\u001b[0m in \u001b[0;36m_set_reach_dist\u001b[1;34m(core_distances_, reachability_, predecessor_, point_index, processed, X, nbrs, metric, metric_params, p, max_eps)\u001b[0m\n\u001b[0;32m    532\u001b[0m             \u001b[1;31m# in the dict params\u001b[0m\u001b[1;33m\u001b[0m\u001b[1;33m\u001b[0m\u001b[1;33m\u001b[0m\u001b[0m\n\u001b[0;32m    533\u001b[0m             \u001b[0m_params\u001b[0m\u001b[1;33m[\u001b[0m\u001b[1;34m'p'\u001b[0m\u001b[1;33m]\u001b[0m \u001b[1;33m=\u001b[0m \u001b[0mp\u001b[0m\u001b[1;33m\u001b[0m\u001b[1;33m\u001b[0m\u001b[0m\n\u001b[1;32m--> 534\u001b[1;33m         dists = pairwise_distances(P, np.take(X, unproc, axis=0),\n\u001b[0m\u001b[0;32m    535\u001b[0m                                    \u001b[0mmetric\u001b[0m\u001b[1;33m=\u001b[0m\u001b[0mmetric\u001b[0m\u001b[1;33m,\u001b[0m \u001b[0mn_jobs\u001b[0m\u001b[1;33m=\u001b[0m\u001b[1;32mNone\u001b[0m\u001b[1;33m,\u001b[0m\u001b[1;33m\u001b[0m\u001b[1;33m\u001b[0m\u001b[0m\n\u001b[0;32m    536\u001b[0m                                    **_params).ravel()\n",
      "\u001b[1;32mC:\\Hyapp\\Anaconda3-2019.3\\envs\\tribus\\lib\\site-packages\\sklearn\\utils\\validation.py\u001b[0m in \u001b[0;36minner_f\u001b[1;34m(*args, **kwargs)\u001b[0m\n\u001b[0;32m     61\u001b[0m             \u001b[0mextra_args\u001b[0m \u001b[1;33m=\u001b[0m \u001b[0mlen\u001b[0m\u001b[1;33m(\u001b[0m\u001b[0margs\u001b[0m\u001b[1;33m)\u001b[0m \u001b[1;33m-\u001b[0m \u001b[0mlen\u001b[0m\u001b[1;33m(\u001b[0m\u001b[0mall_args\u001b[0m\u001b[1;33m)\u001b[0m\u001b[1;33m\u001b[0m\u001b[1;33m\u001b[0m\u001b[0m\n\u001b[0;32m     62\u001b[0m             \u001b[1;32mif\u001b[0m \u001b[0mextra_args\u001b[0m \u001b[1;33m<=\u001b[0m \u001b[1;36m0\u001b[0m\u001b[1;33m:\u001b[0m\u001b[1;33m\u001b[0m\u001b[1;33m\u001b[0m\u001b[0m\n\u001b[1;32m---> 63\u001b[1;33m                 \u001b[1;32mreturn\u001b[0m \u001b[0mf\u001b[0m\u001b[1;33m(\u001b[0m\u001b[1;33m*\u001b[0m\u001b[0margs\u001b[0m\u001b[1;33m,\u001b[0m \u001b[1;33m**\u001b[0m\u001b[0mkwargs\u001b[0m\u001b[1;33m)\u001b[0m\u001b[1;33m\u001b[0m\u001b[1;33m\u001b[0m\u001b[0m\n\u001b[0m\u001b[0;32m     64\u001b[0m \u001b[1;33m\u001b[0m\u001b[0m\n\u001b[0;32m     65\u001b[0m             \u001b[1;31m# extra_args > 0\u001b[0m\u001b[1;33m\u001b[0m\u001b[1;33m\u001b[0m\u001b[1;33m\u001b[0m\u001b[0m\n",
      "\u001b[1;32mC:\\Hyapp\\Anaconda3-2019.3\\envs\\tribus\\lib\\site-packages\\sklearn\\metrics\\pairwise.py\u001b[0m in \u001b[0;36mpairwise_distances\u001b[1;34m(X, Y, metric, n_jobs, force_all_finite, **kwds)\u001b[0m\n\u001b[0;32m   1788\u001b[0m         \u001b[0mfunc\u001b[0m \u001b[1;33m=\u001b[0m \u001b[0mpartial\u001b[0m\u001b[1;33m(\u001b[0m\u001b[0mdistance\u001b[0m\u001b[1;33m.\u001b[0m\u001b[0mcdist\u001b[0m\u001b[1;33m,\u001b[0m \u001b[0mmetric\u001b[0m\u001b[1;33m=\u001b[0m\u001b[0mmetric\u001b[0m\u001b[1;33m,\u001b[0m \u001b[1;33m**\u001b[0m\u001b[0mkwds\u001b[0m\u001b[1;33m)\u001b[0m\u001b[1;33m\u001b[0m\u001b[1;33m\u001b[0m\u001b[0m\n\u001b[0;32m   1789\u001b[0m \u001b[1;33m\u001b[0m\u001b[0m\n\u001b[1;32m-> 1790\u001b[1;33m     \u001b[1;32mreturn\u001b[0m \u001b[0m_parallel_pairwise\u001b[0m\u001b[1;33m(\u001b[0m\u001b[0mX\u001b[0m\u001b[1;33m,\u001b[0m \u001b[0mY\u001b[0m\u001b[1;33m,\u001b[0m \u001b[0mfunc\u001b[0m\u001b[1;33m,\u001b[0m \u001b[0mn_jobs\u001b[0m\u001b[1;33m,\u001b[0m \u001b[1;33m**\u001b[0m\u001b[0mkwds\u001b[0m\u001b[1;33m)\u001b[0m\u001b[1;33m\u001b[0m\u001b[1;33m\u001b[0m\u001b[0m\n\u001b[0m\u001b[0;32m   1791\u001b[0m \u001b[1;33m\u001b[0m\u001b[0m\n\u001b[0;32m   1792\u001b[0m \u001b[1;33m\u001b[0m\u001b[0m\n",
      "\u001b[1;32mC:\\Hyapp\\Anaconda3-2019.3\\envs\\tribus\\lib\\site-packages\\sklearn\\metrics\\pairwise.py\u001b[0m in \u001b[0;36m_parallel_pairwise\u001b[1;34m(X, Y, func, n_jobs, **kwds)\u001b[0m\n\u001b[0;32m   1357\u001b[0m \u001b[1;33m\u001b[0m\u001b[0m\n\u001b[0;32m   1358\u001b[0m     \u001b[1;32mif\u001b[0m \u001b[0meffective_n_jobs\u001b[0m\u001b[1;33m(\u001b[0m\u001b[0mn_jobs\u001b[0m\u001b[1;33m)\u001b[0m \u001b[1;33m==\u001b[0m \u001b[1;36m1\u001b[0m\u001b[1;33m:\u001b[0m\u001b[1;33m\u001b[0m\u001b[1;33m\u001b[0m\u001b[0m\n\u001b[1;32m-> 1359\u001b[1;33m         \u001b[1;32mreturn\u001b[0m \u001b[0mfunc\u001b[0m\u001b[1;33m(\u001b[0m\u001b[0mX\u001b[0m\u001b[1;33m,\u001b[0m \u001b[0mY\u001b[0m\u001b[1;33m,\u001b[0m \u001b[1;33m**\u001b[0m\u001b[0mkwds\u001b[0m\u001b[1;33m)\u001b[0m\u001b[1;33m\u001b[0m\u001b[1;33m\u001b[0m\u001b[0m\n\u001b[0m\u001b[0;32m   1360\u001b[0m \u001b[1;33m\u001b[0m\u001b[0m\n\u001b[0;32m   1361\u001b[0m     \u001b[1;31m# enforce a threading backend to prevent data communication overhead\u001b[0m\u001b[1;33m\u001b[0m\u001b[1;33m\u001b[0m\u001b[1;33m\u001b[0m\u001b[0m\n",
      "\u001b[1;32mC:\\Hyapp\\Anaconda3-2019.3\\envs\\tribus\\lib\\site-packages\\scipy\\spatial\\distance.py\u001b[0m in \u001b[0;36mcdist\u001b[1;34m(XA, XB, metric, *args, **kwargs)\u001b[0m\n\u001b[0;32m   2778\u001b[0m             cdist_fn = getattr(_distance_wrap,\n\u001b[0;32m   2779\u001b[0m                                \"cdist_%s_%s_wrap\" % (metric_name, typ))\n\u001b[1;32m-> 2780\u001b[1;33m             \u001b[0mcdist_fn\u001b[0m\u001b[1;33m(\u001b[0m\u001b[0mXA\u001b[0m\u001b[1;33m,\u001b[0m \u001b[0mXB\u001b[0m\u001b[1;33m,\u001b[0m \u001b[0mdm\u001b[0m\u001b[1;33m,\u001b[0m \u001b[1;33m**\u001b[0m\u001b[0mkwargs\u001b[0m\u001b[1;33m)\u001b[0m\u001b[1;33m\u001b[0m\u001b[1;33m\u001b[0m\u001b[0m\n\u001b[0m\u001b[0;32m   2781\u001b[0m             \u001b[1;32mreturn\u001b[0m \u001b[0mdm\u001b[0m\u001b[1;33m\u001b[0m\u001b[1;33m\u001b[0m\u001b[0m\n\u001b[0;32m   2782\u001b[0m \u001b[1;33m\u001b[0m\u001b[0m\n",
      "\u001b[1;31mKeyboardInterrupt\u001b[0m: "
     ]
    }
   ],
   "source": [
    "clust = OPTICS(min_samples=50, xi=0.05, min_cluster_size=0.05, n_jobs=18)\n",
    "clust.fit(scaled_data)"
   ]
  },
  {
   "cell_type": "code",
   "execution_count": 34,
   "metadata": {},
   "outputs": [
    {
     "name": "stdout",
     "output_type": "stream",
     "text": [
      "765196\n"
     ]
    },
    {
     "name": "stderr",
     "output_type": "stream",
     "text": [
      "<ipython-input-34-390aabdd1394>:2: SettingWithCopyWarning: \n",
      "A value is trying to be set on a copy of a slice from a DataFrame.\n",
      "Try using .loc[row_indexer,col_indexer] = value instead\n",
      "\n",
      "See the caveats in the documentation: https://pandas.pydata.org/pandas-docs/stable/user_guide/indexing.html#returning-a-view-versus-a-copy\n",
      "  df['LOF2'] = mad_lof\n"
     ]
    }
   ],
   "source": [
    "print(len(mad_lof))\n",
    "df['LOF2'] = mad_lof"
   ]
  },
  {
   "cell_type": "code",
   "execution_count": 37,
   "metadata": {},
   "outputs": [],
   "source": [
    "core10 = df[df.CoreId == 10]"
   ]
  },
  {
   "cell_type": "code",
   "execution_count": 39,
   "metadata": {},
   "outputs": [
    {
     "data": {
      "text/plain": [
       "<AxesSubplot:xlabel='LOF2', ylabel='Density'>"
      ]
     },
     "execution_count": 39,
     "metadata": {},
     "output_type": "execute_result"
    },
    {
     "data": {
      "image/png": "[encoded data removed]",
      "text/plain": [
       "<Figure size 1800x720 with 1 Axes>"
      ]
     },
     "metadata": {
      "needs_background": "light"
     },
     "output_type": "display_data"
    }
   ],
   "source": [
    "plt.subplots(figsize=(25,10))\n",
    "sns.distplot(a=core10.LOF2, hist=False, kde=True, rug=True,\n",
    "    rug_kws={'height': .05, 'color': 'black'},\n",
    "    kde_kws={'linewidth': 2})"
   ]
  },
  {
   "cell_type": "code",
   "execution_count": 40,
   "metadata": {},
   "outputs": [],
   "source": [
    "core10.to_csv(os.path.join(path_in,'core10_with_LOF2_score.csv'))"
   ]
  },
  {
   "cell_type": "markdown",
   "metadata": {},
   "source": [
    "Without scaling factor\n"
   ]
  },
  {
   "cell_type": "code",
   "execution_count": null,
   "metadata": {},
   "outputs": [],
   "source": [
    "# This computes the outlier score\n",
    "clf = nn.LocalOutlierFactor(n_jobs=18, n_neighbors=30, algorithm='kd_tree')\n",
    "clf.fit_predict(scaled_data)"
   ]
  },
  {
   "cell_type": "markdown",
   "metadata": {},
   "source": [
    "## Test HDBScan\n",
    "\n",
    "* Is it faster than OPTIC clustering?\n",
    "* Is it more accurate than SOM?\n",
    "* How to automatically select sensible parameters?\n",
    "* Can we reuse parts of the call for LOF2 computation?"
   ]
  },
  {
   "cell_type": "code",
   "execution_count": null,
   "metadata": {},
   "outputs": [],
   "source": [
    "## HDBscan "
   ]
  },
  {
   "cell_type": "markdown",
   "metadata": {},
   "source": [
    "## Run for all files"
   ]
  },
  {
   "cell_type": "code",
   "execution_count": null,
   "metadata": {},
   "outputs": [],
   "source": [
    "lof_by_sample = []\n",
    "i = 0\n",
    "for samplefile in filenames:\n",
    "    input_path = os.path.join(path_in,samplefile)\n",
    "    print(input_path)\n",
    "    data_input = pd.read_csv(input_path)\n",
    "    array_data = data_input[CHANNEL_COLNAMES].to_numpy()\n",
    "    log_data = np.log1p(array_data)\n",
    "    scaled_data = preprocessing.RobustScaler().fit(log_data).transform(log_data)\n",
    "    # This computes the \n",
    "    clf = nn.LocalOutlierFactor(n_jobs=18, n_neighbors=30, algorithm='kd_tree')\n",
    "    clf.fit_predict(scaled_data)\n",
    "    lof_by_sample.append(clf.negative_outlier_factor_)"
   ]
  }
 ],
 "metadata": {
  "interpreter": {
   "hash": "6b8fd7c7a3e03d8d33c4832b4823c4fedbb1506e28774ebe5817139843271821"
  },
  "kernelspec": {
   "display_name": "Python 3.8.8 ('tribus')",
   "language": "python",
   "name": "python3"
  },
  "language_info": {
   "codemirror_mode": {
    "name": "ipython",
    "version": 3
   },
   "file_extension": ".py",
   "mimetype": "text/x-python",
   "name": "python",
   "nbconvert_exporter": "python",
   "pygments_lexer": "ipython3",
   "version": "3.8.8"
  },
  "orig_nbformat": 4
 },
 "nbformat": 4,
 "nbformat_minor": 2
}
